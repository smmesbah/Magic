{
 "cells": [
  {
   "cell_type": "markdown",
   "id": "c68e6ab2",
   "metadata": {},
   "source": [
    "# Question:\n",
    "**Input**: A text file which contains a set of sentences (mean answers)  \n",
    "**Output**:Answer of your questions invoked from  terminal."
   ]
  },
  {
   "cell_type": "code",
   "execution_count": 17,
   "id": "94b94fa8",
   "metadata": {},
   "outputs": [
    {
     "name": "stdout",
     "output_type": "stream",
     "text": [
      "Enter a random question: What my teacher name?\n",
      "Random Question: What my teacher name?\n",
      "Answers with the Highest Cosine Similarity:\n",
      "- My teacher name is HAC\n"
     ]
    }
   ],
   "source": [
    "import numpy as np\n",
    "from sklearn.feature_extraction.text import CountVectorizer\n",
    "from sklearn.metrics.pairwise import cosine_similarity\n",
    "\n",
    "answers = [\n",
    "    \"My mother name is mayanoor akter\",\n",
    "    \"Topper name is Mainul\",\n",
    "    \"My teacher name is HAC\",\n",
    "    \"My name is mesbah\",\n",
    "    \"For passing in the exam\",\n",
    "    \"For doing the class\",\n",
    "]\n",
    "\n",
    "# Create a CountVectorizer\n",
    "vectorizer = CountVectorizer()\n",
    "answer_vec = vectorizer.fit_transform(answers)\n",
    "\n",
    "\n",
    "random_question = input(\"Enter a random question: \")\n",
    "\n",
    "# Transform the random question\n",
    "random_question_vec = vectorizer.transform([random_question])\n",
    "\n",
    "# Calculate cosine similarity between the random question and all questions\n",
    "cosine_similarities = cosine_similarity(random_question_vec, answer_vec)\n",
    "# print(cosine_similarities[0])\n",
    "\n",
    "\n",
    "# Find the indices of answers with the highest cosine similarity scores\n",
    "max_similarity = np.max(cosine_similarities)\n",
    "# print(cosine_similarities)\n",
    "similar_indices = np.where(cosine_similarities[0] == max_similarity)[0]\n",
    "\n",
    "# Get all answers with the highest cosine similarity scores\n",
    "similar_answers = [answers[idx] for idx in similar_indices]\n",
    "\n",
    "print(\"Random Question:\", random_question)\n",
    "print(\"Answers with the Highest Cosine Similarity:\")\n",
    "for answer in similar_answers:\n",
    "    print(\"-\", answer)\n"
   ]
  },
  {
   "cell_type": "code",
   "execution_count": null,
   "id": "aa032fcf",
   "metadata": {},
   "outputs": [],
   "source": []
  }
 ],
 "metadata": {
  "kernelspec": {
   "display_name": "Python [conda env:DS_ML] *",
   "language": "python",
   "name": "conda-env-DS_ML-py"
  },
  "language_info": {
   "codemirror_mode": {
    "name": "ipython",
    "version": 3
   },
   "file_extension": ".py",
   "mimetype": "text/x-python",
   "name": "python",
   "nbconvert_exporter": "python",
   "pygments_lexer": "ipython3",
   "version": "3.9.15"
  }
 },
 "nbformat": 4,
 "nbformat_minor": 5
}
