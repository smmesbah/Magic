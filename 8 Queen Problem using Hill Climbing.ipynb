{
 "cells": [
  {
   "cell_type": "code",
   "execution_count": 5,
   "id": "10feccd6",
   "metadata": {},
   "outputs": [
    {
     "name": "stdout",
     "output_type": "stream",
     "text": [
      "Solution found:\n",
      ". . Q . . . . . \n",
      ". . . . Q . . . \n",
      ". . . . . . . Q \n",
      ". . . Q . . . . \n",
      "Q . . . . . . . \n",
      ". . . . . . Q . \n",
      ". Q . . . . . . \n",
      ". . . . . Q . . \n",
      "\n"
     ]
    }
   ],
   "source": [
    "import random\n",
    "\n",
    "N = 8  # Number of queens\n",
    "\n",
    "# Function to print the board\n",
    "def print_board(board):\n",
    "    for i in range(N):\n",
    "        for j in range(N):\n",
    "            if board[i] == j:\n",
    "                print(\"Q \", end=\"\")\n",
    "            else:\n",
    "                print(\". \", end=\"\")\n",
    "        print()\n",
    "    print()\n",
    "\n",
    "# Function to calculate the number of conflicts for a given board\n",
    "def calculate_conflicts(board):\n",
    "    conflicts = 0\n",
    "    for i in range(N):\n",
    "        for j in range(i + 1, N):\n",
    "            if board[i] == board[j] or abs(board[i] - board[j]) == j - i:\n",
    "                conflicts += 1\n",
    "    return conflicts\n",
    "\n",
    "# Function to perform Hill Climbing\n",
    "def hill_climbing():\n",
    "    current_board = [random.randint(0, N - 1) for _ in range(N)]\n",
    "\n",
    "    current_conflicts = calculate_conflicts(current_board)\n",
    "\n",
    "    while current_conflicts > 0:\n",
    "        best_move_conflicts = current_conflicts\n",
    "\n",
    "        for i in range(N):\n",
    "            original_column = current_board[i]\n",
    "\n",
    "            for j in range(N):\n",
    "                if j != original_column:\n",
    "                    next_board = list(current_board)\n",
    "                    next_board[i] = j\n",
    "                    new_conflicts = calculate_conflicts(next_board)\n",
    "\n",
    "                    if new_conflicts < best_move_conflicts:\n",
    "                        best_move_conflicts = new_conflicts\n",
    "                        current_board = next_board\n",
    "\n",
    "        if best_move_conflicts >= current_conflicts:\n",
    "            # Local minimum reached, restart the search\n",
    "            current_board = [random.randint(0, N - 1) for _ in range(N)]\n",
    "            current_conflicts = calculate_conflicts(current_board)\n",
    "        else:\n",
    "            current_conflicts = best_move_conflicts\n",
    "\n",
    "    return current_board\n",
    "\n",
    "if __name__ == \"__main__\":\n",
    "    solution = hill_climbing()\n",
    "\n",
    "    print(\"Solution found:\")\n",
    "    print_board(solution)\n"
   ]
  },
  {
   "cell_type": "code",
   "execution_count": null,
   "id": "0ecff545",
   "metadata": {},
   "outputs": [],
   "source": []
  }
 ],
 "metadata": {
  "kernelspec": {
   "display_name": "Python 3 (ipykernel)",
   "language": "python",
   "name": "python3"
  },
  "language_info": {
   "codemirror_mode": {
    "name": "ipython",
    "version": 3
   },
   "file_extension": ".py",
   "mimetype": "text/x-python",
   "name": "python",
   "nbconvert_exporter": "python",
   "pygments_lexer": "ipython3",
   "version": "3.9.15"
  }
 },
 "nbformat": 4,
 "nbformat_minor": 5
}
